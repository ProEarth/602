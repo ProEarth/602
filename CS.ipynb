{
  "nbformat": 4,
  "nbformat_minor": 0,
  "metadata": {
    "colab": {
      "provenance": [],
      "authorship_tag": "ABX9TyOf7d3UfLeCqH3O/9v1xS61",
      "include_colab_link": true
    },
    "kernelspec": {
      "name": "python3",
      "display_name": "Python 3"
    },
    "language_info": {
      "name": "python"
    },
    "widgets": {
      "application/vnd.jupyter.widget-state+json": {
        "54a46f102f84417aa6910585adfed124": {
          "model_module": "@jupyter-widgets/output",
          "model_name": "OutputModel",
          "model_module_version": "1.0.0",
          "state": {
            "_dom_classes": [],
            "_model_module": "@jupyter-widgets/output",
            "_model_module_version": "1.0.0",
            "_model_name": "OutputModel",
            "_view_count": null,
            "_view_module": "@jupyter-widgets/output",
            "_view_module_version": "1.0.0",
            "_view_name": "OutputView",
            "layout": "IPY_MODEL_981a7fd592c246baaa7070296e542131",
            "msg_id": "",
            "outputs": [
              {
                "output_type": "display_data",
                "data": {
                  "text/plain": "                                                                                                                   \n \u001b[1m \u001b[0m\u001b[1mProgress                 \u001b[0m\u001b[1m \u001b[0m \u001b[1m \u001b[0m\u001b[1mDraws\u001b[0m\u001b[1m \u001b[0m \u001b[1m \u001b[0m\u001b[1mDivergences\u001b[0m\u001b[1m \u001b[0m \u001b[1m \u001b[0m\u001b[1mStep size\u001b[0m\u001b[1m \u001b[0m \u001b[1m \u001b[0m\u001b[1mGrad evals\u001b[0m\u001b[1m \u001b[0m \u001b[1m \u001b[0m\u001b[1mSampling Speed\u001b[0m\u001b[1m \u001b[0m \u001b[1m \u001b[0m\u001b[1mElapsed\u001b[0m\u001b[1m \u001b[0m \u001b[1m \u001b[0m\u001b[1mRemaining\u001b[0m\u001b[1m \u001b[0m \n ───────────────────────────────────────────────────────────────────────────────────────────────────────────────── \n  \u001b[38;2;31;119;180m━━━━━━━━━━━━━━━━━━━━━━━━━\u001b[0m   2000    0             0.75        3            23.64 draws/s    0:01:24   0:00:00    \n  \u001b[38;2;31;119;180m━━━━━━━━━━━━━━━━━━━━━━━━━\u001b[0m   2000    0             1.02        3            11.66 draws/s    0:02:51   0:00:00    \n                                                                                                                   \n",
                  "text/html": "<pre style=\"white-space:pre;overflow-x:auto;line-height:normal;font-family:Menlo,'DejaVu Sans Mono',consolas,'Courier New',monospace\">                                                                                                                   \n <span style=\"font-weight: bold\"> Progress                  </span> <span style=\"font-weight: bold\"> Draws </span> <span style=\"font-weight: bold\"> Divergences </span> <span style=\"font-weight: bold\"> Step size </span> <span style=\"font-weight: bold\"> Grad evals </span> <span style=\"font-weight: bold\"> Sampling Speed </span> <span style=\"font-weight: bold\"> Elapsed </span> <span style=\"font-weight: bold\"> Remaining </span> \n ───────────────────────────────────────────────────────────────────────────────────────────────────────────────── \n  <span style=\"color: #1f77b4; text-decoration-color: #1f77b4\">━━━━━━━━━━━━━━━━━━━━━━━━━</span>   2000    0             0.75        3            23.64 draws/s    0:01:24   0:00:00    \n  <span style=\"color: #1f77b4; text-decoration-color: #1f77b4\">━━━━━━━━━━━━━━━━━━━━━━━━━</span>   2000    0             1.02        3            11.66 draws/s    0:02:51   0:00:00    \n                                                                                                                   \n</pre>\n"
                },
                "metadata": {}
              }
            ]
          }
        },
        "981a7fd592c246baaa7070296e542131": {
          "model_module": "@jupyter-widgets/base",
          "model_name": "LayoutModel",
          "model_module_version": "1.2.0",
          "state": {
            "_model_module": "@jupyter-widgets/base",
            "_model_module_version": "1.2.0",
            "_model_name": "LayoutModel",
            "_view_count": null,
            "_view_module": "@jupyter-widgets/base",
            "_view_module_version": "1.2.0",
            "_view_name": "LayoutView",
            "align_content": null,
            "align_items": null,
            "align_self": null,
            "border": null,
            "bottom": null,
            "display": null,
            "flex": null,
            "flex_flow": null,
            "grid_area": null,
            "grid_auto_columns": null,
            "grid_auto_flow": null,
            "grid_auto_rows": null,
            "grid_column": null,
            "grid_gap": null,
            "grid_row": null,
            "grid_template_areas": null,
            "grid_template_columns": null,
            "grid_template_rows": null,
            "height": null,
            "justify_content": null,
            "justify_items": null,
            "left": null,
            "margin": null,
            "max_height": null,
            "max_width": null,
            "min_height": null,
            "min_width": null,
            "object_fit": null,
            "object_position": null,
            "order": null,
            "overflow": null,
            "overflow_x": null,
            "overflow_y": null,
            "padding": null,
            "right": null,
            "top": null,
            "visibility": null,
            "width": null
          }
        }
      }
    }
  },
  "cells": [
    {
      "cell_type": "markdown",
      "metadata": {
        "id": "view-in-github",
        "colab_type": "text"
      },
      "source": [
        "<a href=\"https://colab.research.google.com/github/ProEarth/602/blob/master/CS.ipynb\" target=\"_parent\"><img src=\"https://colab.research.google.com/assets/colab-badge.svg\" alt=\"Open In Colab\"/></a>"
      ]
    },
    {
      "cell_type": "code",
      "execution_count": 1,
      "metadata": {
        "colab": {
          "base_uri": "https://localhost:8080/"
        },
        "id": "xyF7vqc6C59t",
        "outputId": "a5c0d50b-5590-4269-da01-da4738243d5c"
      },
      "outputs": [
        {
          "output_type": "stream",
          "name": "stdout",
          "text": [
            "fatal: destination path 'fsan830spring2025' already exists and is not an empty directory.\n",
            "/content/fsan830spring2025\n"
          ]
        }
      ],
      "source": [
        "!git clone https://github.com/flyaflya/fsan830spring2025.git\n",
        "%cd fsan830spring2025"
      ]
    },
    {
      "cell_type": "code",
      "source": [
        "!pip install -U numpy pymc pymc-bart arviz xarray matplotlib scikit-learn"
      ],
      "metadata": {
        "colab": {
          "base_uri": "https://localhost:8080/"
        },
        "id": "0n_srX6XDQpp",
        "outputId": "ab3d6eaf-b7f3-4925-ee4e-c6c02a61ebf0"
      },
      "execution_count": 2,
      "outputs": [
        {
          "output_type": "stream",
          "name": "stdout",
          "text": [
            "Requirement already satisfied: numpy in /usr/local/lib/python3.11/dist-packages (1.26.4)\n",
            "Collecting numpy\n",
            "  Using cached numpy-2.2.5-cp311-cp311-manylinux_2_17_x86_64.manylinux2014_x86_64.whl.metadata (62 kB)\n",
            "Requirement already satisfied: pymc in /usr/local/lib/python3.11/dist-packages (5.20.1)\n",
            "Collecting pymc\n",
            "  Using cached pymc-5.22.0-py3-none-any.whl.metadata (16 kB)\n",
            "Requirement already satisfied: pymc-bart in /usr/local/lib/python3.11/dist-packages (0.9.0)\n",
            "Requirement already satisfied: arviz in /usr/local/lib/python3.11/dist-packages (0.21.0)\n",
            "Requirement already satisfied: xarray in /usr/local/lib/python3.11/dist-packages (2025.3.1)\n",
            "Requirement already satisfied: matplotlib in /usr/local/lib/python3.11/dist-packages (3.10.1)\n",
            "Requirement already satisfied: scikit-learn in /usr/local/lib/python3.11/dist-packages (1.6.1)\n",
            "Requirement already satisfied: cachetools>=4.2.1 in /usr/local/lib/python3.11/dist-packages (from pymc) (5.5.2)\n",
            "Requirement already satisfied: cloudpickle in /usr/local/lib/python3.11/dist-packages (from pymc) (3.1.1)\n",
            "Requirement already satisfied: pandas>=0.24.0 in /usr/local/lib/python3.11/dist-packages (from pymc) (2.2.3)\n",
            "Collecting pytensor<2.31,>=2.30.2 (from pymc)\n",
            "  Using cached pytensor-2.30.3-cp311-cp311-manylinux_2_17_x86_64.manylinux2014_x86_64.whl.metadata (10.0 kB)\n",
            "Requirement already satisfied: rich>=13.7.1 in /usr/local/lib/python3.11/dist-packages (from pymc) (13.9.4)\n",
            "Requirement already satisfied: scipy>=1.4.1 in /usr/local/lib/python3.11/dist-packages (from pymc) (1.14.1)\n",
            "Requirement already satisfied: threadpoolctl<4.0.0,>=3.1.0 in /usr/local/lib/python3.11/dist-packages (from pymc) (3.6.0)\n",
            "Requirement already satisfied: typing-extensions>=3.7.4 in /usr/local/lib/python3.11/dist-packages (from pymc) (4.13.2)\n",
            "Requirement already satisfied: numba in /usr/local/lib/python3.11/dist-packages (from pymc-bart) (0.60.0)\n",
            "Requirement already satisfied: pytensor<2.28,>=2.26.1 in /usr/local/lib/python3.11/dist-packages (from pymc) (2.27.1)\n",
            "Requirement already satisfied: setuptools>=60.0.0 in /usr/local/lib/python3.11/dist-packages (from arviz) (75.2.0)\n",
            "Requirement already satisfied: packaging in /usr/local/lib/python3.11/dist-packages (from arviz) (24.2)\n",
            "Requirement already satisfied: h5netcdf>=1.0.2 in /usr/local/lib/python3.11/dist-packages (from arviz) (1.6.1)\n",
            "Requirement already satisfied: xarray-einstats>=0.3 in /usr/local/lib/python3.11/dist-packages (from arviz) (0.8.0)\n",
            "Requirement already satisfied: contourpy>=1.0.1 in /usr/local/lib/python3.11/dist-packages (from matplotlib) (1.3.2)\n",
            "Requirement already satisfied: cycler>=0.10 in /usr/local/lib/python3.11/dist-packages (from matplotlib) (0.12.1)\n",
            "Requirement already satisfied: fonttools>=4.22.0 in /usr/local/lib/python3.11/dist-packages (from matplotlib) (4.57.0)\n",
            "Requirement already satisfied: kiwisolver>=1.3.1 in /usr/local/lib/python3.11/dist-packages (from matplotlib) (1.4.8)\n",
            "Requirement already satisfied: pillow>=8 in /usr/local/lib/python3.11/dist-packages (from matplotlib) (11.1.0)\n",
            "Requirement already satisfied: pyparsing>=2.3.1 in /usr/local/lib/python3.11/dist-packages (from matplotlib) (3.2.3)\n",
            "Requirement already satisfied: python-dateutil>=2.7 in /usr/local/lib/python3.11/dist-packages (from matplotlib) (2.8.2)\n",
            "Requirement already satisfied: joblib>=1.2.0 in /usr/local/lib/python3.11/dist-packages (from scikit-learn) (1.4.2)\n",
            "Requirement already satisfied: h5py in /usr/local/lib/python3.11/dist-packages (from h5netcdf>=1.0.2->arviz) (3.13.0)\n",
            "Requirement already satisfied: pytz>=2020.1 in /usr/local/lib/python3.11/dist-packages (from pandas>=0.24.0->pymc) (2025.2)\n",
            "Requirement already satisfied: tzdata>=2022.7 in /usr/local/lib/python3.11/dist-packages (from pandas>=0.24.0->pymc) (2025.2)\n",
            "Requirement already satisfied: filelock>=3.15 in /usr/local/lib/python3.11/dist-packages (from pytensor<2.28,>=2.26.1->pymc) (3.18.0)\n",
            "Requirement already satisfied: etuples in /usr/local/lib/python3.11/dist-packages (from pytensor<2.28,>=2.26.1->pymc) (0.3.9)\n",
            "Requirement already satisfied: logical-unification in /usr/local/lib/python3.11/dist-packages (from pytensor<2.28,>=2.26.1->pymc) (0.4.6)\n",
            "Requirement already satisfied: miniKanren in /usr/local/lib/python3.11/dist-packages (from pytensor<2.28,>=2.26.1->pymc) (1.0.3)\n",
            "Requirement already satisfied: cons in /usr/local/lib/python3.11/dist-packages (from pytensor<2.28,>=2.26.1->pymc) (0.4.6)\n",
            "Requirement already satisfied: six>=1.5 in /usr/local/lib/python3.11/dist-packages (from python-dateutil>=2.7->matplotlib) (1.17.0)\n",
            "Requirement already satisfied: markdown-it-py>=2.2.0 in /usr/local/lib/python3.11/dist-packages (from rich>=13.7.1->pymc) (3.0.0)\n",
            "Requirement already satisfied: pygments<3.0.0,>=2.13.0 in /usr/local/lib/python3.11/dist-packages (from rich>=13.7.1->pymc) (2.18.0)\n",
            "Requirement already satisfied: llvmlite<0.44,>=0.43.0dev0 in /usr/local/lib/python3.11/dist-packages (from numba->pymc-bart) (0.43.0)\n",
            "Requirement already satisfied: mdurl~=0.1 in /usr/local/lib/python3.11/dist-packages (from markdown-it-py>=2.2.0->rich>=13.7.1->pymc) (0.1.2)\n",
            "Requirement already satisfied: toolz in /usr/local/lib/python3.11/dist-packages (from logical-unification->pytensor<2.28,>=2.26.1->pymc) (0.12.1)\n",
            "Requirement already satisfied: multipledispatch in /usr/local/lib/python3.11/dist-packages (from logical-unification->pytensor<2.28,>=2.26.1->pymc) (1.0.0)\n"
          ]
        }
      ]
    },
    {
      "cell_type": "code",
      "source": [],
      "metadata": {
        "colab": {
          "base_uri": "https://localhost:8080/"
        },
        "id": "x3X40XifKtOB",
        "outputId": "950b9cdc-4507-4052-b42e-3fb44d8de77e"
      },
      "execution_count": 17,
      "outputs": [
        {
          "output_type": "stream",
          "name": "stdout",
          "text": [
            "Collecting pandas==2.2.2\n",
            "  Downloading pandas-2.2.2-cp311-cp311-manylinux_2_17_x86_64.manylinux2014_x86_64.whl.metadata (19 kB)\n",
            "Requirement already satisfied: numpy>=1.23.2 in /usr/local/lib/python3.11/dist-packages (from pandas==2.2.2) (1.26.4)\n",
            "Requirement already satisfied: python-dateutil>=2.8.2 in /usr/local/lib/python3.11/dist-packages (from pandas==2.2.2) (2.8.2)\n",
            "Requirement already satisfied: pytz>=2020.1 in /usr/local/lib/python3.11/dist-packages (from pandas==2.2.2) (2025.2)\n",
            "Requirement already satisfied: tzdata>=2022.7 in /usr/local/lib/python3.11/dist-packages (from pandas==2.2.2) (2025.2)\n",
            "Requirement already satisfied: six>=1.5 in /usr/local/lib/python3.11/dist-packages (from python-dateutil>=2.8.2->pandas==2.2.2) (1.17.0)\n",
            "Downloading pandas-2.2.2-cp311-cp311-manylinux_2_17_x86_64.manylinux2014_x86_64.whl (13.0 MB)\n",
            "\u001b[2K   \u001b[90m━━━━━━━━━━━━━━━━━━━━━━━━━━━━━━━━━━━━━━━━\u001b[0m \u001b[32m13.0/13.0 MB\u001b[0m \u001b[31m95.5 MB/s\u001b[0m eta \u001b[36m0:00:00\u001b[0m\n",
            "\u001b[?25hInstalling collected packages: pandas\n",
            "  Attempting uninstall: pandas\n",
            "    Found existing installation: pandas 2.2.3\n",
            "    Uninstalling pandas-2.2.3:\n",
            "      Successfully uninstalled pandas-2.2.3\n",
            "Successfully installed pandas-2.2.2\n",
            "Requirement already satisfied: numpy==1.26.4 in /usr/local/lib/python3.11/dist-packages (1.26.4)\n"
          ]
        }
      ]
    },
    {
      "cell_type": "code",
      "source": [
        "import pandas as pd\n",
        "import numpy as np\n",
        "import pymc as pm\n",
        "from pymc_bart import BART\n",
        "from glob import glob\n",
        "import os\n",
        "import xml.etree.ElementTree as ET\n"
      ],
      "metadata": {
        "id": "JBi0Z-NmFWmF"
      },
      "execution_count": 2,
      "outputs": []
    },
    {
      "cell_type": "code",
      "source": [
        "# ====== 1. 批量解析 pastPerformanceData 特征 ======\n",
        "def parse_past_performance(xml_path):\n",
        "    import xml.etree.ElementTree as ET\n",
        "    tree = ET.parse(xml_path)\n",
        "    root = tree.getroot()\n",
        "    records = []\n",
        "    for race in root.findall('Race'):\n",
        "        race_number = race.findtext('RaceNumber')\n",
        "        # 遍历所有 Starters 节点\n",
        "        for starters in race.findall('Starters'):\n",
        "            # 针对每个马（即每个Starters下的字段）\n",
        "            record = {'RaceNumber': race_number}\n",
        "            # 逐字段判断并记录\n",
        "            for item in starters:\n",
        "                if item.tag == 'Horse':\n",
        "                    record['HorseName'] = item.findtext('HorseName')\n",
        "                    record['YearOfBirth'] = item.findtext('YearOfBirth')\n",
        "                    record['FoalingArea'] = item.findtext('FoalingArea')\n",
        "                elif item.tag in ['PostPosition', 'ProgramNumber', 'WeightCarried', 'Odds']:\n",
        "                    record[item.tag] = item.text\n",
        "                elif item.tag == 'Trainer':\n",
        "                    record['Trainer'] = (item.findtext('LastName') or '') + (item.findtext('FirstName') or '')\n",
        "                elif item.tag == 'Jockey':\n",
        "                    record['Jockey'] = (item.findtext('LastName') or '') + (item.findtext('FirstName') or '')\n",
        "            # 最基本的字段必须有，否则跳过\n",
        "            if 'HorseName' in record and record['HorseName']:\n",
        "                for k in record:\n",
        "                    if isinstance(record[k], str):\n",
        "                        record[k] = record[k].strip()\n",
        "                records.append(record)\n",
        "    return pd.DataFrame(records)\n",
        "\n",
        "# ====== 2. 批量解析 resultsData 赛果 ======\n",
        "def parse_results(xml_path):\n",
        "    tree = ET.parse(xml_path)\n",
        "    root = tree.getroot()\n",
        "    records = []\n",
        "    for race in root.findall('.//RACE'):\n",
        "        race_number = race.get('NUMBER')\n",
        "        for entry in race.findall('ENTRY'):\n",
        "            record = {\n",
        "                'RaceNumber': race_number,\n",
        "                'HorseName': entry.findtext('NAME'),\n",
        "                'OfficialFinish': entry.findtext('OFFICIAL_FIN'),\n",
        "                'FinishTime': entry.findtext('FINISH_TIME'),\n",
        "                'SpeedRating': entry.findtext('SPEED_RATING'),\n",
        "                'DollarOdds': entry.findtext('DOLLAR_ODDS'),\n",
        "            }\n",
        "            for k in record:\n",
        "                if isinstance(record[k], str):\n",
        "                    record[k] = record[k].strip()\n",
        "            records.append(record)\n",
        "    return pd.DataFrame(records)\n",
        "\n",
        "# ====== 3. 读取所有XML并合并 ======\n",
        "pp_dir = 'data/rawDataForTraining/pastPerformanceData'\n",
        "res_dir = 'data/rawDataForTraining/resultsData'\n",
        "\n",
        "pp_files = glob(os.path.join(pp_dir, '*.xml'))\n",
        "res_files = glob(os.path.join(res_dir, '*.xml'))\n",
        "\n",
        "print(f\"共发现PastPerformance xml: {len(pp_files)} 份，Result xml: {len(res_files)} 份\")\n",
        "\n",
        "pp_dfs = [parse_past_performance(f) for f in pp_files]\n",
        "res_dfs = [parse_results(f) for f in res_files]\n",
        "\n",
        "df_feat = pd.concat(pp_dfs, ignore_index=True)\n",
        "df_label = pd.concat(res_dfs, ignore_index=True)\n",
        "\n",
        "print(\"特征集 shape:\", df_feat.shape, \"标签集 shape:\", df_label.shape)\n",
        "\n",
        "# 主键统一处理为字符串去空格\n",
        "for df in [df_feat, df_label]:\n",
        "    df['HorseName'] = df['HorseName'].astype(str).str.lower().str.strip()\n",
        "    df['RaceNumber'] = df['RaceNumber'].astype(str).str.strip()\n",
        "\n",
        "# 合并\n",
        "df_full = pd.merge(df_feat, df_label, on=['RaceNumber', 'HorseName'], how='inner', suffixes=('_pp', '_res'))\n",
        "print(\"最终训练集 shape:\", df_full.shape)\n",
        "\n",
        "# 赔率处理（如有“5/2”样式需转成小数）\n",
        "def odds_str_to_float(odds):\n",
        "    if pd.isna(odds):\n",
        "        return None\n",
        "    try:\n",
        "        return float(odds)\n",
        "    except:\n",
        "        if '/' in str(odds):\n",
        "            try:\n",
        "                num, den = odds.split('/')\n",
        "                return float(num) / float(den)\n",
        "            except:\n",
        "                return None\n",
        "        return None\n",
        "\n",
        "df_full['Odds_float'] = df_full['Odds'].apply(odds_str_to_float)\n",
        "df_full['DollarOdds'] = pd.to_numeric(df_full['DollarOdds'], errors='coerce')\n",
        "df_full['OfficialFinish'] = pd.to_numeric(df_full['OfficialFinish'], errors='coerce')\n",
        "df_full['FinishTime'] = pd.to_numeric(df_full['FinishTime'], errors='coerce')\n",
        "df_full['SpeedRating'] = pd.to_numeric(df_full['SpeedRating'], errors='coerce')\n",
        "df_full['WeightCarried'] = pd.to_numeric(df_full['WeightCarried'], errors='coerce')\n",
        "\n",
        "# 保存\n",
        "df_full.to_csv('final_supervised_training_set.csv', index=False)\n",
        "print(df_full.head())\n",
        "print(\"可用于建模的特征：\", df_full.columns.tolist())"
      ],
      "metadata": {
        "colab": {
          "base_uri": "https://localhost:8080/"
        },
        "id": "7jhwhnXwEnmz",
        "outputId": "7d632cc0-29fd-495e-9f81-deedd98d3c8c"
      },
      "execution_count": 3,
      "outputs": [
        {
          "output_type": "stream",
          "name": "stdout",
          "text": [
            "共发现PastPerformance xml: 18 份，Result xml: 18 份\n",
            "特征集 shape: (1757, 10) 标签集 shape: (1482, 6)\n",
            "最终训练集 shape: (1509, 14)\n",
            "  RaceNumber        HorseName YearOfBirth FoalingArea PostPosition  \\\n",
            "0          1    mr. commander        2020          AR            1   \n",
            "1          1        supercool        2018          KY            2   \n",
            "2          1       hail allen        2020          KY            3   \n",
            "3          1  charlie whiskey        2020          KY            4   \n",
            "4          1         chowmein        2020          KY            5   \n",
            "\n",
            "  ProgramNumber  WeightCarried          Trainer            Jockey  Odds  \\\n",
            "0             1            118     GarciaGenaro   CorralesGerardo   5/2   \n",
            "1             2            124     FoleyGregory  ArrietaFrancisco   3/1   \n",
            "2             3            118      BlairJordan    GutierrezReylu  10/1   \n",
            "3             4            118     HartmanChris   MurrillMitchell   4/1   \n",
            "4             5            118  KordenbrockMatt    BejaranoRafael   8/1   \n",
            "\n",
            "   OfficialFinish  FinishTime  SpeedRating  DollarOdds  Odds_float  \n",
            "0               4         0.0           55        3.96         2.5  \n",
            "1               1         0.0           62        2.01         3.0  \n",
            "2               3         0.0           57       13.85        10.0  \n",
            "3               2         0.0           59        5.41         4.0  \n",
            "4               6         0.0           44        6.53         8.0  \n",
            "可用于建模的特征： ['RaceNumber', 'HorseName', 'YearOfBirth', 'FoalingArea', 'PostPosition', 'ProgramNumber', 'WeightCarried', 'Trainer', 'Jockey', 'Odds', 'OfficialFinish', 'FinishTime', 'SpeedRating', 'DollarOdds', 'Odds_float']\n"
          ]
        }
      ]
    },
    {
      "cell_type": "code",
      "source": [
        "# 自选特征（你可以用更多特征，建议先用Odds_float和WeightCarried测试）\n",
        "feature_cols = ['Odds_float', 'WeightCarried', 'SpeedRating']  # 你可以增删\n",
        "'''\n",
        "feature_cols = [\n",
        "    'YearOfBirth',\n",
        "    'FoalingArea',\n",
        "    'PostPosition',\n",
        "    'WeightCarried',\n",
        "    'Trainer',\n",
        "    'Jockey',\n",
        "    'SpeedRating',\n",
        "    'Odds_float'\n",
        "]\n",
        "'''\n",
        "X = df_full[feature_cols].fillna(0).values\n",
        "y = df_full['OfficialFinish'].values\n"
      ],
      "metadata": {
        "id": "x7wG-IBHRSMM"
      },
      "execution_count": 16,
      "outputs": []
    },
    {
      "cell_type": "code",
      "source": [
        "\n",
        "# 字段名和BRISNET字段对应的csv索引\n",
        "column_indices = [\n",
        "    2,    # RaceNumber\n",
        "    44,   # HorseName\n",
        "    45,   # YearOfBirth\n",
        "    56,   # FoalingArea\n",
        "    3,    # PostPosition\n",
        "    42,   # ProgramNumber\n",
        "    50,   # WeightCarried\n",
        "    27,   # Trainer\n",
        "    32,   # Jockey\n",
        "    515,  # Odds (第一场历史比赛的赔率)\n",
        "    615,  # OfficialFinish (第一场历史比赛的名次)\n",
        "    1035, # FinishTime (第一场历史比赛的完赛时间)\n",
        "    845,  # SpeedRating (第一场历史比赛的评分)\n",
        "    43,   # DollarOdds\n",
        "    # Odds_float 需要你自己用Odds列加工\n",
        "]\n",
        "# 只保留你需要的三个特征\n",
        "feature_cols = ['Odds_float', 'WeightCarried', 'SpeedRating']\n",
        "\n",
        "# 对应在BRISNET字典中的索引\n",
        "column_indices = [\n",
        "    515,  # Odds\n",
        "    50,   # WeightCarried\n",
        "    845   # SpeedRating\n",
        "]\n",
        "\n",
        "# 对应的列名（顺序要和上面索引一致）\n",
        "columns = ['Odds', 'WeightCarried', 'SpeedRating']\n",
        "\n",
        "# 读取原始测试集\n",
        "X_test = pd.read_csv('data/rawDataForPrediction/CDX0426.csv', header=None, usecols=column_indices)\n",
        "X_test.columns = columns\n",
        "\n",
        "# 处理 Odds_float，只保留这三列\n",
        "def odds_str_to_float(s):\n",
        "    try:\n",
        "        if pd.isna(s):\n",
        "            return None\n",
        "        if '-' in str(s):\n",
        "            a, b = str(s).split('-')\n",
        "            return float(a) / float(b)\n",
        "        return float(s)\n",
        "    except:\n",
        "        return None\n",
        "\n",
        "X_test['Odds_float'] = X_test['Odds'].apply(odds_str_to_float)\n",
        "\n",
        "# 最终只保留 feature_cols\n",
        "X_test_final = X_test[feature_cols]\n",
        "\n",
        "print(X_test_final)"
      ],
      "metadata": {
        "colab": {
          "base_uri": "https://localhost:8080/"
        },
        "id": "xH-3EhvNTzxP",
        "outputId": "9a0ace9f-0232-4b47-83ad-e465a849ccd0"
      },
      "execution_count": 18,
      "outputs": [
        {
          "output_type": "stream",
          "name": "stdout",
          "text": [
            "    Odds_float  WeightCarried  SpeedRating\n",
            "0        118.0          17.21         81.0\n",
            "1        118.0          14.10         73.0\n",
            "2        118.0          33.57         57.0\n",
            "3        118.0          49.95         64.0\n",
            "4        113.0           8.45         79.0\n",
            "..         ...            ...          ...\n",
            "89       118.0           6.71         76.0\n",
            "90       118.0           9.60         76.0\n",
            "91       118.0          10.87         79.0\n",
            "92       118.0         104.12         80.0\n",
            "93       113.0           1.70         64.0\n",
            "\n",
            "[94 rows x 3 columns]\n"
          ]
        }
      ]
    },
    {
      "cell_type": "code",
      "source": [
        "\n",
        "with pm.Model() as model:\n",
        "  μ = BART(\"μ\", X, y)\n",
        "  σ = pm.HalfNormal(\"σ\", sigma=1.0)\n",
        "  y_obs = pm.Normal(\"y_obs\", mu=μ, sigma=σ, observed=y)\n",
        "  trace = pm.sample(1000, tune=1000, target_accept=0.95, cores=1, random_seed=42)\n",
        "  print(\"模型训练完毕！\")\n",
        "\n",
        "  μ_test = BART(\"μ_test\", X_test_final, None)\n",
        "  ppc = pm.fast_sample_posterior_predictive(trace, var_names=[\"μ_test\"])\n",
        "  y_pred_samples = ppc[\"μ_test\"]  # shape: (n_draws, n_test)\n",
        "  y_pred_mean = y_pred_samples.mean(axis=0)\n",
        "  y_pred_std = y_pred_samples.std(axis=0)\n",
        "\n",
        "\n",
        "X_test_final['prediction'] = y_pred_mean\n",
        "X_test_final['prediction_std'] = y_pred_std\n",
        "X_test_final.to_csv('prediction_output.csv', index=False)\n",
        "print(X_test_final)"
      ],
      "metadata": {
        "colab": {
          "base_uri": "https://localhost:8080/",
          "height": 484,
          "referenced_widgets": [
            "54a46f102f84417aa6910585adfed124",
            "981a7fd592c246baaa7070296e542131"
          ]
        },
        "id": "1CvPZlrDTHD2",
        "outputId": "ac6a4e2e-a32a-4d65-8901-e92a763dbb8c"
      },
      "execution_count": 39,
      "outputs": [
        {
          "output_type": "display_data",
          "data": {
            "text/plain": [
              "Output()"
            ],
            "application/vnd.jupyter.widget-view+json": {
              "version_major": 2,
              "version_minor": 0,
              "model_id": "54a46f102f84417aa6910585adfed124"
            }
          },
          "metadata": {}
        },
        {
          "output_type": "display_data",
          "data": {
            "text/plain": [],
            "text/html": [
              "<pre style=\"white-space:pre;overflow-x:auto;line-height:normal;font-family:Menlo,'DejaVu Sans Mono',consolas,'Courier New',monospace\"></pre>\n"
            ]
          },
          "metadata": {}
        },
        {
          "output_type": "stream",
          "name": "stdout",
          "text": [
            "模型训练完毕！\n"
          ]
        },
        {
          "output_type": "error",
          "ename": "AttributeError",
          "evalue": "'NoneType' object has no attribute 'astype'",
          "traceback": [
            "\u001b[0;31m---------------------------------------------------------------------------\u001b[0m",
            "\u001b[0;31mAttributeError\u001b[0m                            Traceback (most recent call last)",
            "\u001b[0;32m<ipython-input-39-41f36946fa31>\u001b[0m in \u001b[0;36m<cell line: 0>\u001b[0;34m()\u001b[0m\n\u001b[1;32m      6\u001b[0m   \u001b[0mprint\u001b[0m\u001b[0;34m(\u001b[0m\u001b[0;34m\"模型训练完毕！\"\u001b[0m\u001b[0;34m)\u001b[0m\u001b[0;34m\u001b[0m\u001b[0;34m\u001b[0m\u001b[0m\n\u001b[1;32m      7\u001b[0m \u001b[0;34m\u001b[0m\u001b[0m\n\u001b[0;32m----> 8\u001b[0;31m   \u001b[0mμ_test\u001b[0m \u001b[0;34m=\u001b[0m \u001b[0mBART\u001b[0m\u001b[0;34m(\u001b[0m\u001b[0;34m\"μ_test\"\u001b[0m\u001b[0;34m,\u001b[0m \u001b[0mX_test_final\u001b[0m\u001b[0;34m,\u001b[0m \u001b[0;32mNone\u001b[0m\u001b[0;34m)\u001b[0m\u001b[0;34m\u001b[0m\u001b[0;34m\u001b[0m\u001b[0m\n\u001b[0m\u001b[1;32m      9\u001b[0m   \u001b[0mppc\u001b[0m \u001b[0;34m=\u001b[0m \u001b[0mpm\u001b[0m\u001b[0;34m.\u001b[0m\u001b[0mfast_sample_posterior_predictive\u001b[0m\u001b[0;34m(\u001b[0m\u001b[0mtrace\u001b[0m\u001b[0;34m,\u001b[0m \u001b[0mvar_names\u001b[0m\u001b[0;34m=\u001b[0m\u001b[0;34m[\u001b[0m\u001b[0;34m\"μ_test\"\u001b[0m\u001b[0;34m]\u001b[0m\u001b[0;34m)\u001b[0m\u001b[0;34m\u001b[0m\u001b[0;34m\u001b[0m\u001b[0m\n\u001b[1;32m     10\u001b[0m   \u001b[0my_pred_samples\u001b[0m \u001b[0;34m=\u001b[0m \u001b[0mppc\u001b[0m\u001b[0;34m[\u001b[0m\u001b[0;34m\"μ_test\"\u001b[0m\u001b[0;34m]\u001b[0m  \u001b[0;31m# shape: (n_draws, n_test)\u001b[0m\u001b[0;34m\u001b[0m\u001b[0;34m\u001b[0m\u001b[0m\n",
            "\u001b[0;32m/usr/local/lib/python3.11/dist-packages/pymc_bart/bart.py\u001b[0m in \u001b[0;36m__new__\u001b[0;34m(cls, name, X, Y, m, alpha, beta, response, split_prior, split_rules, separate_trees, **kwargs)\u001b[0m\n\u001b[1;32m    146\u001b[0m         \u001b[0mcls\u001b[0m\u001b[0;34m.\u001b[0m\u001b[0mall_trees\u001b[0m \u001b[0;34m=\u001b[0m \u001b[0mmanager\u001b[0m\u001b[0;34m.\u001b[0m\u001b[0mlist\u001b[0m\u001b[0;34m(\u001b[0m\u001b[0;34m)\u001b[0m\u001b[0;34m\u001b[0m\u001b[0;34m\u001b[0m\u001b[0m\n\u001b[1;32m    147\u001b[0m \u001b[0;34m\u001b[0m\u001b[0m\n\u001b[0;32m--> 148\u001b[0;31m         \u001b[0mX\u001b[0m\u001b[0;34m,\u001b[0m \u001b[0mY\u001b[0m \u001b[0;34m=\u001b[0m \u001b[0mpreprocess_xy\u001b[0m\u001b[0;34m(\u001b[0m\u001b[0mX\u001b[0m\u001b[0;34m,\u001b[0m \u001b[0mY\u001b[0m\u001b[0;34m)\u001b[0m\u001b[0;34m\u001b[0m\u001b[0;34m\u001b[0m\u001b[0m\n\u001b[0m\u001b[1;32m    149\u001b[0m \u001b[0;34m\u001b[0m\u001b[0m\n\u001b[1;32m    150\u001b[0m         \u001b[0msplit_prior\u001b[0m \u001b[0;34m=\u001b[0m \u001b[0mnp\u001b[0m\u001b[0;34m.\u001b[0m\u001b[0marray\u001b[0m\u001b[0;34m(\u001b[0m\u001b[0;34m[\u001b[0m\u001b[0;34m]\u001b[0m\u001b[0;34m)\u001b[0m \u001b[0;32mif\u001b[0m \u001b[0msplit_prior\u001b[0m \u001b[0;32mis\u001b[0m \u001b[0;32mNone\u001b[0m \u001b[0;32melse\u001b[0m \u001b[0mnp\u001b[0m\u001b[0;34m.\u001b[0m\u001b[0masarray\u001b[0m\u001b[0;34m(\u001b[0m\u001b[0msplit_prior\u001b[0m\u001b[0;34m)\u001b[0m\u001b[0;34m\u001b[0m\u001b[0;34m\u001b[0m\u001b[0m\n",
            "\u001b[0;32m/usr/local/lib/python3.11/dist-packages/pymc_bart/bart.py\u001b[0m in \u001b[0;36mpreprocess_xy\u001b[0;34m(X, Y)\u001b[0m\n\u001b[1;32m    220\u001b[0m         \u001b[0;32mpass\u001b[0m\u001b[0;34m\u001b[0m\u001b[0;34m\u001b[0m\u001b[0m\n\u001b[1;32m    221\u001b[0m \u001b[0;34m\u001b[0m\u001b[0m\n\u001b[0;32m--> 222\u001b[0;31m     \u001b[0mY\u001b[0m \u001b[0;34m=\u001b[0m \u001b[0mY\u001b[0m\u001b[0;34m.\u001b[0m\u001b[0mastype\u001b[0m\u001b[0;34m(\u001b[0m\u001b[0mfloat\u001b[0m\u001b[0;34m)\u001b[0m\u001b[0;34m\u001b[0m\u001b[0;34m\u001b[0m\u001b[0m\n\u001b[0m\u001b[1;32m    223\u001b[0m     \u001b[0mX\u001b[0m \u001b[0;34m=\u001b[0m \u001b[0mX\u001b[0m\u001b[0;34m.\u001b[0m\u001b[0mastype\u001b[0m\u001b[0;34m(\u001b[0m\u001b[0mfloat\u001b[0m\u001b[0;34m)\u001b[0m\u001b[0;34m\u001b[0m\u001b[0;34m\u001b[0m\u001b[0m\n\u001b[1;32m    224\u001b[0m \u001b[0;34m\u001b[0m\u001b[0m\n",
            "\u001b[0;31mAttributeError\u001b[0m: 'NoneType' object has no attribute 'astype'"
          ]
        }
      ]
    }
  ]
}