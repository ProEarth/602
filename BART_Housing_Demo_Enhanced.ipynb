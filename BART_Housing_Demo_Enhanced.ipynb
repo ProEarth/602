{
  "cells": [
    {
      "cell_type": "markdown",
      "metadata": {
        "id": "view-in-github",
        "colab_type": "text"
      },
      "source": [
        "<a href=\"https://colab.research.google.com/github/ProEarth/602/blob/master/BART_Housing_Demo_Enhanced.ipynb\" target=\"_parent\"><img src=\"https://colab.research.google.com/assets/colab-badge.svg\" alt=\"Open In Colab\"/></a>"
      ]
    },
    {
      "cell_type": "markdown",
      "metadata": {
        "id": "TYP6i9SWebeo"
      },
      "source": [
        "\n",
        "# Decision Tree Implementation for BART Models\n",
        "# A teaching example for understanding tree structures in Bayesian Additive Regression Trees"
      ]
    },
    {
      "cell_type": "code",
      "execution_count": null,
      "metadata": {
        "id": "LARRNRundlkJ"
      },
      "outputs": [],
      "source": [
        "# Install necessary packages as needed\n",
        "# !pip install xarray matplotlib -q\n",
        "\n",
        "import numpy as np\n",
        "import xarray as xr\n",
        "import matplotlib.pyplot as plt\n",
        "from typing import Optional, Union, List\n",
        "import random\n",
        "\n",
        "# Set random seed for reproducibility\n",
        "np.random.seed(42)\n",
        "random.seed(42)"
      ]
    },
    {
      "cell_type": "markdown",
      "metadata": {
        "id": "yMvgtgIGesXm"
      },
      "source": [
        "# Part 1: Simple Tree Data Structure\n",
        "# ---------------------------------"
      ]
    },
    {
      "cell_type": "code",
      "execution_count": null,
      "metadata": {
        "id": "NCkMyrR-etkC"
      },
      "outputs": [],
      "source": [
        "class DecisionNode:\n",
        "    \"\"\"A node that makes a decision based on a feature value.\"\"\"\n",
        "    def __init__(self, feature_name: str, threshold: float):\n",
        "        self.feature_name = feature_name\n",
        "        self.threshold = threshold\n",
        "        self.left = None  # For values <= threshold\n",
        "        self.right = None  # For values > threshold\n",
        "\n",
        "    def __str__(self):\n",
        "        return f\"Decision on {self.feature_name} at {self.threshold:.4f}\""
      ]
    },
    {
      "cell_type": "code",
      "execution_count": null,
      "metadata": {
        "id": "qYtewrxxexvN"
      },
      "outputs": [],
      "source": [
        "class LeafNode:\n",
        "    \"\"\"A leaf node that provides a prediction value.\"\"\"\n",
        "    def __init__(self, value: float):\n",
        "        self.value = value\n",
        "\n",
        "    def __str__(self):\n",
        "        return f\"Leaf with value {self.value:.4f}\""
      ]
    },
    {
      "cell_type": "code",
      "execution_count": null,
      "metadata": {
        "id": "vc2XQRsSe0dX"
      },
      "outputs": [],
      "source": [
        "class DecisionTree:\n",
        "    \"\"\"A decision tree that works with xarray datasets.\"\"\"\n",
        "    def __init__(self):\n",
        "        self.root = None\n",
        "        self.sample_dim = 'sample'\n",
        "\n",
        "    def predict_single(self, x: xr.Dataset) -> float:\n",
        "        \"\"\"Predict for a single sample.\"\"\"\n",
        "        if self.root is None:\n",
        "            raise ValueError(\"Tree hasn't been built yet\")\n",
        "\n",
        "        node = self.root\n",
        "        while isinstance(node, DecisionNode):\n",
        "            feature_value = float(x[node.feature_name].values)\n",
        "            if feature_value <= node.threshold:\n",
        "                node = node.left\n",
        "            else:\n",
        "                node = node.right\n",
        "\n",
        "        return node.value\n",
        "\n",
        "    def predict(self, X: xr.Dataset) -> xr.DataArray:\n",
        "        \"\"\"Predict for multiple samples.\"\"\"\n",
        "        predictions = np.zeros(len(X[self.sample_dim]))\n",
        "\n",
        "        for i, sample_id in enumerate(X[self.sample_dim].values):\n",
        "            sample = X.sel({self.sample_dim: sample_id})\n",
        "            predictions[i] = self.predict_single(sample)\n",
        "\n",
        "        return xr.DataArray(\n",
        "            predictions,\n",
        "            dims=[self.sample_dim],\n",
        "            coords={self.sample_dim: X[self.sample_dim]}\n",
        "        )"
      ]
    },
    {
      "cell_type": "markdown",
      "metadata": {
        "id": "zY0IsqJye3IA"
      },
      "source": [
        "# Part 2: Tree Visualization\n",
        "# --------------------------"
      ]
    },
    {
      "cell_type": "code",
      "execution_count": null,
      "metadata": {
        "id": "gRoQmBche5E6"
      },
      "outputs": [],
      "source": [
        "def visualize_tree(node, indent=\"\", is_left=True, is_root=True):\n",
        "    \"\"\"Print a visual representation of the tree.\"\"\"\n",
        "    if node is None:\n",
        "        return\n",
        "\n",
        "    # Print current node\n",
        "    prefix = \"\" if is_root else (indent + (\"└── \" if is_left else \"┌── > \"))\n",
        "    print(prefix + str(node))\n",
        "\n",
        "    # Only continue if we're at a decision node\n",
        "    if isinstance(node, DecisionNode):\n",
        "        # Set the new indent level for the children\n",
        "        new_indent = indent + (\"    \" if is_left else \"│   \")\n",
        "\n",
        "        # Recursively print the left and right subtrees\n",
        "        visualize_tree(node.left, new_indent, True, False)\n",
        "        visualize_tree(node.right, new_indent, False, False)"
      ]
    },
    {
      "cell_type": "markdown",
      "metadata": {
        "id": "oP8ClU6oe_vB"
      },
      "source": [
        "# Part 3: Create Example Housing Dataset\n",
        "# -------------------------------------"
      ]
    },
    {
      "cell_type": "code",
      "execution_count": null,
      "metadata": {
        "id": "D8OYq0lRfBnc"
      },
      "outputs": [],
      "source": [
        "def create_housing_dataset(n_samples=20):\n",
        "    \"\"\"Create a synthetic housing dataset for demonstration.\"\"\"\n",
        "    # Generate sample IDs\n",
        "    samples = [f'house{i+1}' for i in range(n_samples)]\n",
        "\n",
        "    # Generate feature values\n",
        "    np.random.seed(42)  # For reproducibility\n",
        "    sqft = np.random.uniform(800, 2500, n_samples).round()\n",
        "    bedrooms = np.random.randint(1, 6, n_samples)\n",
        "    age = np.random.uniform(0, 50, n_samples).round()\n",
        "    location_score = np.random.uniform(1, 10, n_samples).round(1)\n",
        "\n",
        "    # Generate prices based on features (with some noise)\n",
        "    base_price = 100000\n",
        "    sqft_factor = 100\n",
        "    bedroom_factor = 15000\n",
        "    age_factor = -1000\n",
        "    location_factor = 10000\n",
        "\n",
        "    prices = (\n",
        "        base_price +\n",
        "        sqft_factor * sqft +\n",
        "        bedroom_factor * bedrooms +\n",
        "        age_factor * age +\n",
        "        location_factor * location_score +\n",
        "        np.random.normal(0, 20000, n_samples)\n",
        "    ).round()\n",
        "\n",
        "    # Create the dataset\n",
        "    ds = xr.Dataset(\n",
        "        data_vars={\n",
        "            'sqft': ('sample', sqft),\n",
        "            'bedrooms': ('sample', bedrooms),\n",
        "            'age': ('sample', age),\n",
        "            'location_score': ('sample', location_score),\n",
        "            'price': ('sample', prices)\n",
        "        },\n",
        "        coords={\n",
        "            'sample': samples\n",
        "        }\n",
        "    )\n",
        "\n",
        "    return ds"
      ]
    },
    {
      "cell_type": "markdown",
      "metadata": {
        "id": "yGHdAM6WfE5Y"
      },
      "source": [
        "# Part 4: Create a Demo Tree\n",
        "# -------------------------"
      ]
    },
    {
      "cell_type": "code",
      "execution_count": null,
      "metadata": {
        "id": "YHt636y9fGqB"
      },
      "outputs": [],
      "source": [
        "def create_demo_tree():\n",
        "    \"\"\"Create a simple decision tree for the housing example.\"\"\"\n",
        "    tree = DecisionTree()\n",
        "\n",
        "    # Create root node (decision node)\n",
        "    root = DecisionNode(\"sqft\", 1500)\n",
        "\n",
        "    # Create left branch (smaller houses)\n",
        "    small_house = DecisionNode(\"bedrooms\", 2)\n",
        "    small_house.left = LeafNode(180000)  # Small house, few bedrooms\n",
        "    small_house.right = LeafNode(220000)  # Small house, more bedrooms\n",
        "\n",
        "    # Create right branch (larger houses)\n",
        "    large_house = DecisionNode(\"age\", 20)\n",
        "    large_house.left = LeafNode(350000)  # Large, newer house\n",
        "    large_house.right = LeafNode(300000)  # Large, older house\n",
        "\n",
        "    # Connect to root\n",
        "    root.left = small_house\n",
        "    root.right = large_house\n",
        "\n",
        "    # Set tree root\n",
        "    tree.root = root\n",
        "\n",
        "    return tree\n"
      ]
    },
    {
      "cell_type": "markdown",
      "metadata": {
        "id": "s2jWPtdVfJbN"
      },
      "source": [
        "# Part 5: Demonstration of Tree Usage\n",
        "# ----------------------------------"
      ]
    },
    {
      "cell_type": "code",
      "execution_count": null,
      "metadata": {
        "colab": {
          "base_uri": "https://localhost:8080/"
        },
        "id": "_MbkGJZ4fTYu",
        "outputId": "d879aa59-726f-418a-f95f-49dd2f89bcde"
      },
      "outputs": [
        {
          "name": "stdout",
          "output_type": "stream",
          "text": [
            "Housing Dataset (first 5 samples):\n",
            "<xarray.Dataset> Size: 340B\n",
            "Dimensions:         (sample: 5)\n",
            "Coordinates:\n",
            "  * sample          (sample) <U7 140B 'house1' 'house2' ... 'house4' 'house5'\n",
            "Data variables:\n",
            "    sqft            (sample) float64 40B 1.437e+03 2.416e+03 ... 1.065e+03\n",
            "    bedrooms        (sample) int64 40B 3 2 4 4 3\n",
            "    age             (sample) float64 40B 1.0 12.0 12.0 34.0 30.0\n",
            "    location_score  (sample) float64 40B 6.1 5.7 9.7 8.6 7.7\n",
            "    price           (sample) float64 40B 3.627e+05 4.201e+05 ... 2.951e+05\n",
            "\n",
            "Decision Tree Structure:\n",
            "Decision on sqft at 1500.0000\n",
            "    └── Decision on bedrooms at 2.0000\n",
            "        └── Leaf with value 180000.0000\n",
            "        ┌── > Leaf with value 220000.0000\n",
            "    ┌── > Decision on age at 20.0000\n",
            "    │   └── Leaf with value 350000.0000\n",
            "    │   ┌── > Leaf with value 300000.0000\n",
            "\n",
            "Predictions vs Actual Prices (first 5 samples):\n",
            "variable     price  predicted_price\n",
            "sample                             \n",
            "house1    362669.0         220000.0\n",
            "house2    420072.0         350000.0\n",
            "house3    462646.0         350000.0\n",
            "house4    398622.0         300000.0\n",
            "house5    295136.0         220000.0\n"
          ]
        }
      ],
      "source": [
        "# Create our example dataset\n",
        "housing_data = create_housing_dataset(20)\n",
        "\n",
        "# Display first few samples\n",
        "print(\"Housing Dataset (first 5 samples):\")\n",
        "print(housing_data.isel(sample=slice(0, 5)))\n",
        "\n",
        "# Create our decision tree\n",
        "demo_tree = create_demo_tree()\n",
        "\n",
        "# Visualize the tree structure\n",
        "print(\"\\nDecision Tree Structure:\")\n",
        "visualize_tree(demo_tree.root)\n",
        "\n",
        "# Make predictions\n",
        "predictions = demo_tree.predict(housing_data)\n",
        "\n",
        "# Combine with original data for comparison\n",
        "housing_data['predicted_price'] = predictions\n",
        "\n",
        "# Display predictions vs actual for first few samples\n",
        "print(\"\\nPredictions vs Actual Prices (first 5 samples):\")\n",
        "comparison = housing_data[['price', 'predicted_price']].to_array().to_pandas().T.head()\n",
        "print(comparison)"
      ]
    },
    {
      "cell_type": "markdown",
      "metadata": {
        "id": "ZcKUVpLSfYYG"
      },
      "source": [
        "# Part 6: Simple Plot of Results\n",
        "# -----------------------------"
      ]
    },
    {
      "cell_type": "code",
      "execution_count": null,
      "metadata": {
        "colab": {
          "base_uri": "https://localhost:8080/",
          "height": 564
        },
        "id": "5qhzrfYcfaWJ",
        "outputId": "7b9fa92f-584e-465e-da6d-0fbbb4bfaede"
      },
      "outputs": [
        {
          "data": {
            "image/png": "[encoded data removed]",
            "text/plain": [
              "<Figure size 1000x600 with 1 Axes>"
            ]
          },
          "metadata": {},
          "output_type": "display_data"
        }
      ],
      "source": [
        "plt.figure(figsize=(10, 6))\n",
        "plt.scatter(housing_data.price.values, predictions.values, alpha=0.7)\n",
        "plt.plot([housing_data.price.min(), housing_data.price.max()],\n",
        "         [housing_data.price.min(), housing_data.price.max()],\n",
        "         'r--', label='Perfect Prediction')\n",
        "plt.xlabel('Actual Price')\n",
        "plt.ylabel('Predicted Price')\n",
        "plt.title('Decision Tree Predictions vs Actual Prices')\n",
        "plt.legend()\n",
        "plt.grid(True, alpha=0.3)\n",
        "plt.show()"
      ]
    },
    {
      "cell_type": "markdown",
      "metadata": {
        "id": "je0aqsx-fc6N"
      },
      "source": [
        "# Part 7: Tree Building Functions\n",
        "# ------------------------------"
      ]
    },
    {
      "cell_type": "code",
      "execution_count": null,
      "metadata": {
        "id": "tKGPN7tbfhjy"
      },
      "outputs": [],
      "source": [
        "def calculate_mse(y_true, y_pred):\n",
        "    \"\"\"Calculate Mean Squared Error.\"\"\"\n",
        "    return np.mean((y_true - y_pred) ** 2)\n",
        "\n",
        "def find_best_split(X, y, feature_names):\n",
        "    \"\"\"Find the best feature and threshold to split the data.\"\"\"\n",
        "    best_feature = None\n",
        "    best_threshold = None\n",
        "    best_mse = float('inf')\n",
        "\n",
        "    # Try each feature\n",
        "    for feature in feature_names:\n",
        "        # Get unique values for potential thresholds\n",
        "        values = np.unique(X[feature].values)\n",
        "\n",
        "        # Skip if only one unique value\n",
        "        if len(values) <= 1:\n",
        "            continue\n",
        "\n",
        "        # Try different thresholds between consecutive values\n",
        "        for i in range(len(values) - 1):\n",
        "            threshold = (values[i] + values[i + 1]) / 2\n",
        "\n",
        "            # Split into left and right based on threshold\n",
        "            left_mask = X[feature] <= threshold\n",
        "            right_mask = ~left_mask\n",
        "\n",
        "            # Skip if either side is empty\n",
        "            if left_mask.sum() == 0 or right_mask.sum() == 0:\n",
        "                continue\n",
        "\n",
        "            # Calculate predictions for each side\n",
        "            left_pred = y.where(left_mask, drop=True).mean().item()\n",
        "            right_pred = y.where(right_mask, drop=True).mean().item()\n",
        "\n",
        "            # Calculate MSE for this split (fixed by including 'sample' dimension)\n",
        "            left_mse = calculate_mse(y.where(left_mask, drop=True).values, left_pred)\n",
        "            right_mse = calculate_mse(y.where(right_mask, drop=True).values, right_pred)\n",
        "\n",
        "            # Weighted average MSE\n",
        "            mse = (\n",
        "                left_mask.sum() * left_mse +\n",
        "                right_mask.sum() * right_mse\n",
        "            ) / len(y)\n",
        "\n",
        "            # Update best if this is better\n",
        "            if mse < best_mse:\n",
        "                best_mse = mse\n",
        "                best_feature = feature\n",
        "                best_threshold = threshold\n",
        "\n",
        "    return best_feature, best_threshold\n",
        "\n",
        "def build_tree(X, y, feature_names, max_depth=3, min_samples_split=2, depth=0):\n",
        "    \"\"\"Build a decision tree recursively.\"\"\"\n",
        "    # Base case: stop if max depth reached or not enough samples\n",
        "    if depth >= max_depth or len(y) < min_samples_split:\n",
        "        return LeafNode(y.mean().item())\n",
        "\n",
        "    # Find the best split\n",
        "    best_feature, best_threshold = find_best_split(X, y, feature_names)\n",
        "\n",
        "    # If no good split found, create a leaf node\n",
        "    if best_feature is None:\n",
        "        return LeafNode(y.mean().item())\n",
        "\n",
        "    # Create a decision node\n",
        "    node = DecisionNode(best_feature, best_threshold)\n",
        "\n",
        "    # Split the data\n",
        "    left_mask = X[best_feature] <= best_threshold\n",
        "    right_mask = ~left_mask\n",
        "\n",
        "    # Build the left and right subtrees\n",
        "    node.left = build_tree(\n",
        "        X.where(left_mask, drop=True),\n",
        "        y.where(left_mask, drop=True),\n",
        "        feature_names, max_depth, min_samples_split, depth + 1\n",
        "    )\n",
        "\n",
        "    node.right = build_tree(\n",
        "        X.where(right_mask, drop=True),\n",
        "        y.where(right_mask, drop=True),\n",
        "        feature_names, max_depth, min_samples_split, depth + 1\n",
        "    )\n",
        "\n",
        "    return node"
      ]
    },
    {
      "cell_type": "markdown",
      "metadata": {
        "id": "_Q1qv1k3fmnf"
      },
      "source": [
        "# Part 8: Build a Tree from Data\n",
        "# -----------------------------"
      ]
    },
    {
      "cell_type": "code",
      "execution_count": null,
      "metadata": {
        "colab": {
          "base_uri": "https://localhost:8080/"
        },
        "id": "t4C7a0iJfk1e",
        "outputId": "d99427a2-c58c-4d5f-c5d5-c2f021ba0a8a"
      },
      "outputs": [
        {
          "name": "stdout",
          "output_type": "stream",
          "text": [
            "\n",
            "Learned Decision Tree Structure:\n",
            "Decision on sqft at 1755.0000\n",
            "    └── Decision on location_score at 4.7000\n",
            "        └── Decision on sqft at 972.0000\n",
            "            └── Leaf with value 213017.0000\n",
            "            ┌── > Leaf with value 267592.2500\n",
            "        ┌── > Decision on age at 1.5000\n",
            "        │   └── Leaf with value 362669.0000\n",
            "        │   ┌── > Leaf with value 302012.6667\n",
            "    ┌── > Decision on location_score at 1.8000\n",
            "    │   └── Leaf with value 278612.0000\n",
            "    │   ┌── > Decision on age at 16.0000\n",
            "    │   │   └── Leaf with value 434455.0000\n",
            "    │   │   ┌── > Leaf with value 399833.0000\n",
            "\n",
            "Mean Squared Error: 144880912.00\n"
          ]
        }
      ],
      "source": [
        "# Choose features to use\n",
        "features = ['sqft', 'bedrooms', 'age', 'location_score']\n",
        "\n",
        "# Build a tree from our housing data\n",
        "learned_tree = DecisionTree()\n",
        "learned_tree.root = build_tree(\n",
        "    housing_data[features],\n",
        "    housing_data['price'],\n",
        "    features,\n",
        "    max_depth=3\n",
        ")\n",
        "\n",
        "# Visualize the learned tree\n",
        "print(\"\\nLearned Decision Tree Structure:\")\n",
        "visualize_tree(learned_tree.root)\n",
        "\n",
        "# Make predictions using the learned tree\n",
        "learned_predictions = learned_tree.predict(housing_data)\n",
        "\n",
        "# Calculate MSE\n",
        "mse = calculate_mse(housing_data['price'].values, learned_predictions.values)\n",
        "print(f\"\\nMean Squared Error: {mse:.2f}\")\n"
      ]
    },
    {
      "cell_type": "markdown",
      "metadata": {
        "id": "xFkwYB2efq6o"
      },
      "source": [
        "\n",
        "# Part 9: Visualize the learned tree predictions\n",
        "# --------------------------------------------"
      ]
    },
    {
      "cell_type": "code",
      "execution_count": null,
      "metadata": {
        "colab": {
          "base_uri": "https://localhost:8080/",
          "height": 564
        },
        "id": "SnuZYxiYftHM",
        "outputId": "016ea139-a2ee-4052-a9a3-f3b1cc74a54c"
      },
      "outputs": [
        {
          "data": {
            "image/png": "[encoded data removed]",
            "text/plain": [
              "<Figure size 1000x600 with 1 Axes>"
            ]
          },
          "metadata": {},
          "output_type": "display_data"
        }
      ],
      "source": [
        "plt.figure(figsize=(10, 6))\n",
        "plt.scatter(housing_data.price.values, learned_predictions.values, alpha=0.7)\n",
        "plt.plot([housing_data.price.min(), housing_data.price.max()],\n",
        "         [housing_data.price.min(), housing_data.price.max()],\n",
        "         'r--', label='Perfect Prediction')\n",
        "plt.xlabel('Actual Price')\n",
        "plt.ylabel('Predicted Price')\n",
        "plt.title('Learned Decision Tree Predictions vs Actual Prices')\n",
        "plt.legend()\n",
        "plt.grid(True, alpha=0.3)\n",
        "plt.show()"
      ]
    },
    {
      "cell_type": "markdown",
      "metadata": {
        "id": "q1p7VIMyfwbp"
      },
      "source": [
        "\n",
        "# Part 10 (YOUR TURN): This Week's Mimimum Next Steps Towards BART\n",
        "# ------------------------------"
      ]
    },
    {
      "cell_type": "markdown",
      "metadata": {
        "id": "uJ9t-nkRdIDU"
      },
      "source": [
        "Work Expectations:\n",
        "* You will work hard from 6:00pm - 8:30pm during class and stay on task (not on your phone or distracted).\n",
        "* You will work around 1-6 hours outside of class towards developing this solution.\n",
        "* You will be prepared to be randomly called upon to discuss your progresss to-date in front of the class and what challenge you are tackling next?\n",
        "\n",
        "Minimum Requirements For Week:\n",
        "* go through the PYMC-BART Documentation: https://www.pymc.io/projects/bart/en/latest/\n",
        "* make sure you can run PYMC-BART\n",
        "* get PYMC_BART to run on the sample data above\n",
        "* visualize the performance of PYMC-BART using the tools the developers suggest\n",
        "* compare the simple toy model above's performance to PYMC-BART's performance.  \n",
        "\n",
        "\n",
        "Future Requirements:\n",
        "* Think about feature engineering for horse race prediction.  What are you predicting?  Will you have that data readily available on race day?  How are you training your BART model?  How will you convert multiple historical XML files into an xarray dataset for your features?\n",
        "* Does a 2-stage BART model work where the first stage is individual BART models with limited subsets of available features using prior knowledge to create the \"expert\" models and the second stage is a BART model that combines the \"Expert predictions.  Test on Friedman data and explore with horse racing data.\n",
        "* Are you able to make predictions?  How can we as a class work together to make a class prediction?  What data should we be sharing?\n",
        "\n",
        "HORSE RACING HISTORICAL DATA FOR TRAINING TO BE POSTED HERE:  https://github.com/flyaflya/fsan830spring2025/tree/main/data/sampleRaceResults\n"
      ]
    },
    {
      "cell_type": "markdown",
      "metadata": {
        "id": "0d55b8aa"
      },
      "source": [
        "# 🧠 Part 11: PyMC-BART on the Sample Housing Dataset\n",
        "\n",
        "In this section, we follow the assignment requirement to:\n",
        "\n",
        "1. Use the existing synthetic housing dataset (`create_housing_dataset`) as input.\n",
        "2. Run a real BART model using PyMC-BART.\n",
        "3. Visualize the posterior predictive results.\n",
        "4. Compare performance (R², RMSE) with our earlier hand-coded tree model.\n"
      ]
    },
    {
      "cell_type": "code",
      "execution_count": 2,
      "metadata": {
        "colab": {
          "base_uri": "https://localhost:8080/",
          "height": 1000
        },
        "id": "a1e467a4",
        "outputId": "d0bf8033-e978-44b7-82e1-8a6b59750bab"
      },
      "outputs": [
        {
          "output_type": "stream",
          "name": "stdout",
          "text": [
            "Requirement already satisfied: numpy in /usr/local/lib/python3.11/dist-packages (1.24.4)\n",
            "Collecting numpy\n",
            "  Downloading numpy-2.2.4-cp311-cp311-manylinux_2_17_x86_64.manylinux2014_x86_64.whl.metadata (62 kB)\n",
            "\u001b[2K     \u001b[90m━━━━━━━━━━━━━━━━━━━━━━━━━━━━━━━━━━━━━━━━\u001b[0m \u001b[32m62.0/62.0 kB\u001b[0m \u001b[31m1.7 MB/s\u001b[0m eta \u001b[36m0:00:00\u001b[0m\n",
            "\u001b[?25hRequirement already satisfied: pymc in /usr/local/lib/python3.11/dist-packages (5.21.2)\n",
            "Collecting pymc\n",
            "  Downloading pymc-5.22.0-py3-none-any.whl.metadata (16 kB)\n",
            "Collecting pymc-bart\n",
            "  Downloading pymc_bart-0.9.0-py3-none-any.whl.metadata (4.6 kB)\n",
            "Requirement already satisfied: arviz in /usr/local/lib/python3.11/dist-packages (0.21.0)\n",
            "Requirement already satisfied: xarray in /usr/local/lib/python3.11/dist-packages (2025.1.2)\n",
            "Collecting xarray\n",
            "  Downloading xarray-2025.3.1-py3-none-any.whl.metadata (12 kB)\n",
            "Requirement already satisfied: matplotlib in /usr/local/lib/python3.11/dist-packages (3.10.0)\n",
            "Collecting matplotlib\n",
            "  Downloading matplotlib-3.10.1-cp311-cp311-manylinux_2_17_x86_64.manylinux2014_x86_64.whl.metadata (11 kB)\n",
            "Requirement already satisfied: scikit-learn in /usr/local/lib/python3.11/dist-packages (1.6.1)\n",
            "Requirement already satisfied: cachetools>=4.2.1 in /usr/local/lib/python3.11/dist-packages (from pymc) (5.5.2)\n",
            "Requirement already satisfied: cloudpickle in /usr/local/lib/python3.11/dist-packages (from pymc) (3.1.1)\n",
            "Requirement already satisfied: pandas>=0.24.0 in /usr/local/lib/python3.11/dist-packages (from pymc) (2.2.2)\n",
            "Requirement already satisfied: pytensor<2.31,>=2.30.2 in /usr/local/lib/python3.11/dist-packages (from pymc) (2.30.3)\n",
            "Requirement already satisfied: rich>=13.7.1 in /usr/local/lib/python3.11/dist-packages (from pymc) (13.9.4)\n",
            "Requirement already satisfied: scipy>=1.4.1 in /usr/local/lib/python3.11/dist-packages (from pymc) (1.14.1)\n",
            "Requirement already satisfied: threadpoolctl<4.0.0,>=3.1.0 in /usr/local/lib/python3.11/dist-packages (from pymc) (3.6.0)\n",
            "Requirement already satisfied: typing-extensions>=3.7.4 in /usr/local/lib/python3.11/dist-packages (from pymc) (4.13.1)\n",
            "Collecting pymc\n",
            "  Downloading pymc-5.20.1-py3-none-any.whl.metadata (15 kB)\n",
            "Requirement already satisfied: numba in /usr/local/lib/python3.11/dist-packages (from pymc-bart) (0.60.0)\n",
            "Collecting pytensor<2.28,>=2.26.1 (from pymc)\n",
            "  Downloading pytensor-2.27.1-cp311-cp311-manylinux_2_17_x86_64.manylinux2014_x86_64.whl.metadata (9.9 kB)\n",
            "Requirement already satisfied: setuptools>=60.0.0 in /usr/local/lib/python3.11/dist-packages (from arviz) (75.2.0)\n",
            "Requirement already satisfied: packaging in /usr/local/lib/python3.11/dist-packages (from arviz) (24.2)\n",
            "Requirement already satisfied: h5netcdf>=1.0.2 in /usr/local/lib/python3.11/dist-packages (from arviz) (1.6.1)\n",
            "Requirement already satisfied: xarray-einstats>=0.3 in /usr/local/lib/python3.11/dist-packages (from arviz) (0.8.0)\n",
            "Requirement already satisfied: contourpy>=1.0.1 in /usr/local/lib/python3.11/dist-packages (from matplotlib) (1.3.1)\n",
            "Requirement already satisfied: cycler>=0.10 in /usr/local/lib/python3.11/dist-packages (from matplotlib) (0.12.1)\n",
            "Requirement already satisfied: fonttools>=4.22.0 in /usr/local/lib/python3.11/dist-packages (from matplotlib) (4.57.0)\n",
            "Requirement already satisfied: kiwisolver>=1.3.1 in /usr/local/lib/python3.11/dist-packages (from matplotlib) (1.4.8)\n",
            "Requirement already satisfied: pillow>=8 in /usr/local/lib/python3.11/dist-packages (from matplotlib) (11.1.0)\n",
            "Requirement already satisfied: pyparsing>=2.3.1 in /usr/local/lib/python3.11/dist-packages (from matplotlib) (3.2.3)\n",
            "Requirement already satisfied: python-dateutil>=2.7 in /usr/local/lib/python3.11/dist-packages (from matplotlib) (2.8.2)\n",
            "Requirement already satisfied: joblib>=1.2.0 in /usr/local/lib/python3.11/dist-packages (from scikit-learn) (1.4.2)\n",
            "Requirement already satisfied: h5py in /usr/local/lib/python3.11/dist-packages (from h5netcdf>=1.0.2->arviz) (3.13.0)\n",
            "Requirement already satisfied: pytz>=2020.1 in /usr/local/lib/python3.11/dist-packages (from pandas>=0.24.0->pymc) (2025.2)\n",
            "Requirement already satisfied: tzdata>=2022.7 in /usr/local/lib/python3.11/dist-packages (from pandas>=0.24.0->pymc) (2025.2)\n",
            "Collecting numpy\n",
            "  Downloading numpy-1.26.4-cp311-cp311-manylinux_2_17_x86_64.manylinux2014_x86_64.whl.metadata (61 kB)\n",
            "\u001b[2K     \u001b[90m━━━━━━━━━━━━━━━━━━━━━━━━━━━━━━━━━━━━━━━━\u001b[0m \u001b[32m61.0/61.0 kB\u001b[0m \u001b[31m4.2 MB/s\u001b[0m eta \u001b[36m0:00:00\u001b[0m\n",
            "\u001b[?25hRequirement already satisfied: filelock>=3.15 in /usr/local/lib/python3.11/dist-packages (from pytensor<2.28,>=2.26.1->pymc) (3.18.0)\n",
            "Requirement already satisfied: etuples in /usr/local/lib/python3.11/dist-packages (from pytensor<2.28,>=2.26.1->pymc) (0.3.9)\n",
            "Requirement already satisfied: logical-unification in /usr/local/lib/python3.11/dist-packages (from pytensor<2.28,>=2.26.1->pymc) (0.4.6)\n",
            "Requirement already satisfied: miniKanren in /usr/local/lib/python3.11/dist-packages (from pytensor<2.28,>=2.26.1->pymc) (1.0.3)\n",
            "Requirement already satisfied: cons in /usr/local/lib/python3.11/dist-packages (from pytensor<2.28,>=2.26.1->pymc) (0.4.6)\n",
            "Requirement already satisfied: six>=1.5 in /usr/local/lib/python3.11/dist-packages (from python-dateutil>=2.7->matplotlib) (1.17.0)\n",
            "Requirement already satisfied: markdown-it-py>=2.2.0 in /usr/local/lib/python3.11/dist-packages (from rich>=13.7.1->pymc) (3.0.0)\n",
            "Requirement already satisfied: pygments<3.0.0,>=2.13.0 in /usr/local/lib/python3.11/dist-packages (from rich>=13.7.1->pymc) (2.18.0)\n",
            "Requirement already satisfied: llvmlite<0.44,>=0.43.0dev0 in /usr/local/lib/python3.11/dist-packages (from numba->pymc-bart) (0.43.0)\n",
            "Requirement already satisfied: mdurl~=0.1 in /usr/local/lib/python3.11/dist-packages (from markdown-it-py>=2.2.0->rich>=13.7.1->pymc) (0.1.2)\n",
            "Requirement already satisfied: toolz in /usr/local/lib/python3.11/dist-packages (from logical-unification->pytensor<2.28,>=2.26.1->pymc) (0.12.1)\n",
            "Requirement already satisfied: multipledispatch in /usr/local/lib/python3.11/dist-packages (from logical-unification->pytensor<2.28,>=2.26.1->pymc) (1.0.0)\n",
            "Downloading pymc_bart-0.9.0-py3-none-any.whl (31 kB)\n",
            "Downloading pymc-5.20.1-py3-none-any.whl (518 kB)\n",
            "\u001b[2K   \u001b[90m━━━━━━━━━━━━━━━━━━━━━━━━━━━━━━━━━━━━━━━━\u001b[0m \u001b[32m518.9/518.9 kB\u001b[0m \u001b[31m11.9 MB/s\u001b[0m eta \u001b[36m0:00:00\u001b[0m\n",
            "\u001b[?25hDownloading xarray-2025.3.1-py3-none-any.whl (1.3 MB)\n",
            "\u001b[2K   \u001b[90m━━━━━━━━━━━━━━━━━━━━━━━━━━━━━━━━━━━━━━━━\u001b[0m \u001b[32m1.3/1.3 MB\u001b[0m \u001b[31m39.7 MB/s\u001b[0m eta \u001b[36m0:00:00\u001b[0m\n",
            "\u001b[?25hDownloading matplotlib-3.10.1-cp311-cp311-manylinux_2_17_x86_64.manylinux2014_x86_64.whl (8.6 MB)\n",
            "\u001b[2K   \u001b[90m━━━━━━━━━━━━━━━━━━━━━━━━━━━━━━━━━━━━━━━━\u001b[0m \u001b[32m8.6/8.6 MB\u001b[0m \u001b[31m102.8 MB/s\u001b[0m eta \u001b[36m0:00:00\u001b[0m\n",
            "\u001b[?25hDownloading pytensor-2.27.1-cp311-cp311-manylinux_2_17_x86_64.manylinux2014_x86_64.whl (2.0 MB)\n",
            "\u001b[2K   \u001b[90m━━━━━━━━━━━━━━━━━━━━━━━━━━━━━━━━━━━━━━━━\u001b[0m \u001b[32m2.0/2.0 MB\u001b[0m \u001b[31m9.6 MB/s\u001b[0m eta \u001b[36m0:00:00\u001b[0m\n",
            "\u001b[?25hDownloading numpy-1.26.4-cp311-cp311-manylinux_2_17_x86_64.manylinux2014_x86_64.whl (18.3 MB)\n",
            "\u001b[2K   \u001b[90m━━━━━━━━━━━━━━━━━━━━━━━━━━━━━━━━━━━━━━━━\u001b[0m \u001b[32m18.3/18.3 MB\u001b[0m \u001b[31m92.4 MB/s\u001b[0m eta \u001b[36m0:00:00\u001b[0m\n",
            "\u001b[?25hInstalling collected packages: numpy, xarray, matplotlib, pytensor, pymc, pymc-bart\n",
            "  Attempting uninstall: numpy\n",
            "    Found existing installation: numpy 1.24.4\n",
            "    Uninstalling numpy-1.24.4:\n",
            "      Successfully uninstalled numpy-1.24.4\n",
            "  Attempting uninstall: xarray\n",
            "    Found existing installation: xarray 2025.1.2\n",
            "    Uninstalling xarray-2025.1.2:\n",
            "      Successfully uninstalled xarray-2025.1.2\n",
            "  Attempting uninstall: matplotlib\n",
            "    Found existing installation: matplotlib 3.10.0\n",
            "    Uninstalling matplotlib-3.10.0:\n",
            "      Successfully uninstalled matplotlib-3.10.0\n",
            "  Attempting uninstall: pytensor\n",
            "    Found existing installation: pytensor 2.30.3\n",
            "    Uninstalling pytensor-2.30.3:\n",
            "      Successfully uninstalled pytensor-2.30.3\n",
            "  Attempting uninstall: pymc\n",
            "    Found existing installation: pymc 5.21.2\n",
            "    Uninstalling pymc-5.21.2:\n",
            "      Successfully uninstalled pymc-5.21.2\n",
            "\u001b[31mERROR: pip's dependency resolver does not currently take into account all the packages that are installed. This behaviour is the source of the following dependency conflicts.\n",
            "thinc 8.3.6 requires numpy<3.0.0,>=2.0.0, but you have numpy 1.26.4 which is incompatible.\u001b[0m\u001b[31m\n",
            "\u001b[0mSuccessfully installed matplotlib-3.10.1 numpy-1.26.4 pymc-5.20.1 pymc-bart-0.9.0 pytensor-2.27.1 xarray-2025.3.1\n"
          ]
        },
        {
          "output_type": "display_data",
          "data": {
            "application/vnd.colab-display-data+json": {
              "pip_warning": {
                "packages": [
                  "xarray"
                ]
              },
              "id": "3097e3eb27784218b7e8ea08870b2671"
            }
          },
          "metadata": {}
        }
      ],
      "source": [
        "!pip install -U numpy pymc pymc-bart arviz xarray matplotlib scikit-learn"
      ]
    },
    {
      "cell_type": "code",
      "source": [
        "import numpy as np\n",
        "import xarray as xr\n",
        "import matplotlib.pyplot as plt\n",
        "import pymc as pm\n",
        "import arviz as az\n",
        "from pymc_bart import BART\n",
        "from sklearn.metrics import r2_score, mean_squared_error"
      ],
      "metadata": {
        "id": "nZOFWEvbILnF"
      },
      "execution_count": 1,
      "outputs": []
    },
    {
      "cell_type": "code",
      "source": [
        "def create_housing_dataset(n_samples=20):\n",
        "    \"\"\"Create a synthetic housing dataset for demonstration.\"\"\"\n",
        "    # Generate sample IDs\n",
        "    samples = [f'house{i+1}' for i in range(n_samples)]\n",
        "\n",
        "    # Generate feature values\n",
        "    np.random.seed(42)  # For reproducibility\n",
        "    sqft = np.random.uniform(800, 2500, n_samples).round()\n",
        "    bedrooms = np.random.randint(1, 6, n_samples)\n",
        "    age = np.random.uniform(0, 50, n_samples).round()\n",
        "    location_score = np.random.uniform(1, 10, n_samples).round(1)\n",
        "\n",
        "    # Generate prices based on features (with some noise)\n",
        "    base_price = 100000\n",
        "    sqft_factor = 100\n",
        "    bedroom_factor = 15000\n",
        "    age_factor = -1000\n",
        "    location_factor = 10000\n",
        "\n",
        "    prices = (\n",
        "        base_price +\n",
        "        sqft_factor * sqft +\n",
        "        bedroom_factor * bedrooms +\n",
        "        age_factor * age +\n",
        "        location_factor * location_score +\n",
        "        np.random.normal(0, 20000, n_samples)\n",
        "    ).round()\n",
        "\n",
        "    # Create the dataset\n",
        "    ds = xr.Dataset(\n",
        "        data_vars={\n",
        "            'sqft': ('sample', sqft),\n",
        "            'bedrooms': ('sample', bedrooms),\n",
        "            'age': ('sample', age),\n",
        "            'location_score': ('sample', location_score),\n",
        "            'price': ('sample', prices)\n",
        "        },\n",
        "        coords={\n",
        "            'sample': samples\n",
        "        }\n",
        "    )\n",
        "\n",
        "    return ds"
      ],
      "metadata": {
        "id": "zZKwVZBvIkOR"
      },
      "execution_count": 3,
      "outputs": []
    },
    {
      "cell_type": "code",
      "execution_count": null,
      "metadata": {
        "colab": {
          "base_uri": "https://localhost:8080/",
          "height": 116,
          "referenced_widgets": [
            "ace2671cc7a84dbf97c2fc9fda4d6542",
            "75b08e6fe4234334a42c5d2f99b10adb"
          ]
        },
        "id": "2e86fa8a",
        "outputId": "502233b2-bc45-450e-a1e2-ffeb0e916cd4"
      },
      "outputs": [
        {
          "output_type": "display_data",
          "data": {
            "text/plain": [
              "Output()"
            ],
            "application/vnd.jupyter.widget-view+json": {
              "version_major": 2,
              "version_minor": 0,
              "model_id": "ace2671cc7a84dbf97c2fc9fda4d6542"
            }
          },
          "metadata": {}
        }
      ],
      "source": [
        "# Use the housing dataset from earlier\n",
        "housing_data = create_housing_dataset(20)\n",
        "\n",
        "X = np.stack([\n",
        "    housing_data[\"sqft\"].values,\n",
        "    housing_data[\"bedrooms\"].values,\n",
        "    housing_data[\"age\"].values,\n",
        "    housing_data[\"location_score\"].values\n",
        "], axis=1)\n",
        "Y = housing_data[\"price\"].values\n",
        "\n",
        "# Run BART model\n",
        "with pm.Model() as bart_model:\n",
        "    μ = BART(\"μ\", X, Y, m=50)\n",
        "    σ = pm.HalfNormal(\"σ\", sigma=20000)\n",
        "    y_obs = pm.Normal(\"y_obs\", mu=μ, sigma=σ, observed=Y)\n",
        "    trace = pm.sample(1000, tune=1000, chains=2, target_accept=0.95, random_seed=42)\n"
      ]
    },
    {
      "cell_type": "code",
      "source": [
        "\n",
        "# Posterior predictive\n",
        "# 后验预测（显式指定变量）\n",
        "posterior_predictive = pm.sample_posterior_predictive(\n",
        "    trace,\n",
        "    model=bart_model,\n",
        "    var_names=[\"μ\"]  # 只抽样 BART 预测的中间变量 μ\n",
        ")\n",
        "\n",
        "# 计算预测均值\n",
        "y_pred_mean = posterior_predictive[\"μ\"].mean(axis=0)\n",
        "\n",
        "\n",
        "# Visualization\n",
        "plt.figure(figsize=(6, 6))\n",
        "plt.scatter(Y, y_pred_mean, c=\"blue\")\n",
        "plt.plot([Y.min(), Y.max()], [Y.min(), Y.max()], 'k--')\n",
        "plt.xlabel(\"Actual Price\")\n",
        "plt.ylabel(\"Predicted Price\")\n",
        "plt.title(\"PyMC-BART Prediction vs Actual\")\n",
        "plt.grid(True)\n",
        "plt.show()\n",
        "\n",
        "# Print evaluation\n",
        "r2 = r2_score(Y, y_pred_mean)\n",
        "rmse = mean_squared_error(Y, y_pred_mean, squared=False)\n",
        "print(f\"R² Score: {r2:.4f}\")\n",
        "print(f\"RMSE: {rmse:.2f}\")\n"
      ],
      "metadata": {
        "id": "6mVorDBxJhud"
      },
      "execution_count": null,
      "outputs": []
    }
  ],
  "metadata": {
    "colab": {
      "provenance": [],
      "include_colab_link": true
    },
    "kernelspec": {
      "display_name": "Python 3",
      "name": "python3"
    },
    "language_info": {
      "name": "python"
    },
    "widgets": {
      "application/vnd.jupyter.widget-state+json": {
        "ace2671cc7a84dbf97c2fc9fda4d6542": {
          "model_module": "@jupyter-widgets/output",
          "model_name": "OutputModel",
          "model_module_version": "1.0.0",
          "state": {
            "_dom_classes": [],
            "_model_module": "@jupyter-widgets/output",
            "_model_module_version": "1.0.0",
            "_model_name": "OutputModel",
            "_view_count": null,
            "_view_module": "@jupyter-widgets/output",
            "_view_module_version": "1.0.0",
            "_view_name": "OutputView",
            "layout": "IPY_MODEL_75b08e6fe4234334a42c5d2f99b10adb",
            "msg_id": "",
            "outputs": [
              {
                "output_type": "display_data",
                "data": {
                  "text/plain": "                                                                                                                   \n \u001b[1m \u001b[0m\u001b[1mProgress                 \u001b[0m\u001b[1m \u001b[0m \u001b[1m \u001b[0m\u001b[1mDraws\u001b[0m\u001b[1m \u001b[0m \u001b[1m \u001b[0m\u001b[1mDivergences\u001b[0m\u001b[1m \u001b[0m \u001b[1m \u001b[0m\u001b[1mStep size\u001b[0m\u001b[1m \u001b[0m \u001b[1m \u001b[0m\u001b[1mGrad evals\u001b[0m\u001b[1m \u001b[0m \u001b[1m \u001b[0m\u001b[1mSampling Speed\u001b[0m\u001b[1m \u001b[0m \u001b[1m \u001b[0m\u001b[1mElapsed\u001b[0m\u001b[1m \u001b[0m \u001b[1m \u001b[0m\u001b[1mRemaining\u001b[0m\u001b[1m \u001b[0m \n ───────────────────────────────────────────────────────────────────────────────────────────────────────────────── \n  \u001b[38;2;31;119;180m━━━━━━━━━━━━━━━━━━━━━━━━━\u001b[0m   2000    0             0.76        7            37.36 draws/s    0:00:53   0:00:00    \n  \u001b[38;2;31;119;180m━━━━━━━━━━━━━━━━━━\u001b[0m\u001b[38;5;237m╺\u001b[0m\u001b[38;5;237m━━━━━━\u001b[0m   1452    0             0.74        3            15.68 draws/s    0:01:32   0:00:15    \n                                                                                                                   \n",
                  "text/html": "<pre style=\"white-space:pre;overflow-x:auto;line-height:normal;font-family:Menlo,'DejaVu Sans Mono',consolas,'Courier New',monospace\">                                                                                                                   \n <span style=\"font-weight: bold\"> Progress                  </span> <span style=\"font-weight: bold\"> Draws </span> <span style=\"font-weight: bold\"> Divergences </span> <span style=\"font-weight: bold\"> Step size </span> <span style=\"font-weight: bold\"> Grad evals </span> <span style=\"font-weight: bold\"> Sampling Speed </span> <span style=\"font-weight: bold\"> Elapsed </span> <span style=\"font-weight: bold\"> Remaining </span> \n ───────────────────────────────────────────────────────────────────────────────────────────────────────────────── \n  <span style=\"color: #1f77b4; text-decoration-color: #1f77b4\">━━━━━━━━━━━━━━━━━━━━━━━━━</span>   2000    0             0.76        7            37.36 draws/s    0:00:53   0:00:00    \n  <span style=\"color: #1f77b4; text-decoration-color: #1f77b4\">━━━━━━━━━━━━━━━━━━</span><span style=\"color: #3a3a3a; text-decoration-color: #3a3a3a\">╺━━━━━━</span>   1452    0             0.74        3            15.68 draws/s    0:01:32   0:00:15    \n                                                                                                                   \n</pre>\n"
                },
                "metadata": {}
              }
            ]
          }
        },
        "75b08e6fe4234334a42c5d2f99b10adb": {
          "model_module": "@jupyter-widgets/base",
          "model_name": "LayoutModel",
          "model_module_version": "1.2.0",
          "state": {
            "_model_module": "@jupyter-widgets/base",
            "_model_module_version": "1.2.0",
            "_model_name": "LayoutModel",
            "_view_count": null,
            "_view_module": "@jupyter-widgets/base",
            "_view_module_version": "1.2.0",
            "_view_name": "LayoutView",
            "align_content": null,
            "align_items": null,
            "align_self": null,
            "border": null,
            "bottom": null,
            "display": null,
            "flex": null,
            "flex_flow": null,
            "grid_area": null,
            "grid_auto_columns": null,
            "grid_auto_flow": null,
            "grid_auto_rows": null,
            "grid_column": null,
            "grid_gap": null,
            "grid_row": null,
            "grid_template_areas": null,
            "grid_template_columns": null,
            "grid_template_rows": null,
            "height": null,
            "justify_content": null,
            "justify_items": null,
            "left": null,
            "margin": null,
            "max_height": null,
            "max_width": null,
            "min_height": null,
            "min_width": null,
            "object_fit": null,
            "object_position": null,
            "order": null,
            "overflow": null,
            "overflow_x": null,
            "overflow_y": null,
            "padding": null,
            "right": null,
            "top": null,
            "visibility": null,
            "width": null
          }
        }
      }
    }
  },
  "nbformat": 4,
  "nbformat_minor": 0
}